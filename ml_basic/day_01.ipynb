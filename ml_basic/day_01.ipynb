{
 "cells": [
  {
   "cell_type": "code",
   "execution_count": 1,
   "metadata": {},
   "outputs": [],
   "source": [
    "import pandas as pd"
   ]
  },
  {
   "cell_type": "code",
   "execution_count": 50,
   "metadata": {},
   "outputs": [],
   "source": [
    "df = pd.read_excel('trips_data.xlsx', index_col=0)"
   ]
  },
  {
   "cell_type": "code",
   "execution_count": 51,
   "metadata": {},
   "outputs": [
    {
     "data": {
      "text/html": [
       "<div>\n",
       "<style scoped>\n",
       "    .dataframe tbody tr th:only-of-type {\n",
       "        vertical-align: middle;\n",
       "    }\n",
       "\n",
       "    .dataframe tbody tr th {\n",
       "        vertical-align: top;\n",
       "    }\n",
       "\n",
       "    .dataframe thead th {\n",
       "        text-align: right;\n",
       "    }\n",
       "</style>\n",
       "<table border=\"1\" class=\"dataframe\">\n",
       "  <thead>\n",
       "    <tr style=\"text-align: right;\">\n",
       "      <th></th>\n",
       "      <th>salary</th>\n",
       "      <th>city</th>\n",
       "      <th>age</th>\n",
       "      <th>vacation_preference</th>\n",
       "      <th>transport_preference</th>\n",
       "      <th>family_members</th>\n",
       "      <th>target</th>\n",
       "    </tr>\n",
       "  </thead>\n",
       "  <tbody>\n",
       "    <tr>\n",
       "      <th>0</th>\n",
       "      <td>196000</td>\n",
       "      <td>Краснодар</td>\n",
       "      <td>25</td>\n",
       "      <td>Шоппинг</td>\n",
       "      <td>Автомобиль</td>\n",
       "      <td>1</td>\n",
       "      <td>New York</td>\n",
       "    </tr>\n",
       "    <tr>\n",
       "      <th>1</th>\n",
       "      <td>152000</td>\n",
       "      <td>Екатеринбург</td>\n",
       "      <td>60</td>\n",
       "      <td>Архитектура</td>\n",
       "      <td>Самолет</td>\n",
       "      <td>1</td>\n",
       "      <td>London</td>\n",
       "    </tr>\n",
       "    <tr>\n",
       "      <th>2</th>\n",
       "      <td>83000</td>\n",
       "      <td>Томск</td>\n",
       "      <td>49</td>\n",
       "      <td>Архитектура</td>\n",
       "      <td>Автомобиль</td>\n",
       "      <td>2</td>\n",
       "      <td>Sydney</td>\n",
       "    </tr>\n",
       "    <tr>\n",
       "      <th>3</th>\n",
       "      <td>161000</td>\n",
       "      <td>Краснодар</td>\n",
       "      <td>41</td>\n",
       "      <td>Шоппинг</td>\n",
       "      <td>Автомобиль</td>\n",
       "      <td>0</td>\n",
       "      <td>New York</td>\n",
       "    </tr>\n",
       "    <tr>\n",
       "      <th>4</th>\n",
       "      <td>146000</td>\n",
       "      <td>Краснодар</td>\n",
       "      <td>58</td>\n",
       "      <td>Архитектура</td>\n",
       "      <td>Самолет</td>\n",
       "      <td>1</td>\n",
       "      <td>Sydney</td>\n",
       "    </tr>\n",
       "    <tr>\n",
       "      <th>...</th>\n",
       "      <td>...</td>\n",
       "      <td>...</td>\n",
       "      <td>...</td>\n",
       "      <td>...</td>\n",
       "      <td>...</td>\n",
       "      <td>...</td>\n",
       "      <td>...</td>\n",
       "    </tr>\n",
       "    <tr>\n",
       "      <th>995</th>\n",
       "      <td>81000</td>\n",
       "      <td>Краснодар</td>\n",
       "      <td>55</td>\n",
       "      <td>Пляжный отдых</td>\n",
       "      <td>Морской транспорт</td>\n",
       "      <td>2</td>\n",
       "      <td>Paris</td>\n",
       "    </tr>\n",
       "    <tr>\n",
       "      <th>996</th>\n",
       "      <td>96000</td>\n",
       "      <td>Краснодар</td>\n",
       "      <td>32</td>\n",
       "      <td>Архитектура</td>\n",
       "      <td>Поезд</td>\n",
       "      <td>1</td>\n",
       "      <td>Paris</td>\n",
       "    </tr>\n",
       "    <tr>\n",
       "      <th>997</th>\n",
       "      <td>56000</td>\n",
       "      <td>Краснодар</td>\n",
       "      <td>68</td>\n",
       "      <td>Архитектура</td>\n",
       "      <td>Самолет</td>\n",
       "      <td>2</td>\n",
       "      <td>Paris</td>\n",
       "    </tr>\n",
       "    <tr>\n",
       "      <th>998</th>\n",
       "      <td>162000</td>\n",
       "      <td>Краснодар</td>\n",
       "      <td>69</td>\n",
       "      <td>Архитектура</td>\n",
       "      <td>Самолет</td>\n",
       "      <td>0</td>\n",
       "      <td>Sydney</td>\n",
       "    </tr>\n",
       "    <tr>\n",
       "      <th>999</th>\n",
       "      <td>171000</td>\n",
       "      <td>Краснодар</td>\n",
       "      <td>35</td>\n",
       "      <td>Архитектура</td>\n",
       "      <td>Автомобиль</td>\n",
       "      <td>1</td>\n",
       "      <td>New York</td>\n",
       "    </tr>\n",
       "  </tbody>\n",
       "</table>\n",
       "<p>1000 rows × 7 columns</p>\n",
       "</div>"
      ],
      "text/plain": [
       "     salary          city  age vacation_preference transport_preference  \\\n",
       "0    196000     Краснодар   25             Шоппинг           Автомобиль   \n",
       "1    152000  Екатеринбург   60         Архитектура              Самолет   \n",
       "2     83000         Томск   49         Архитектура           Автомобиль   \n",
       "3    161000     Краснодар   41             Шоппинг           Автомобиль   \n",
       "4    146000     Краснодар   58         Архитектура              Самолет   \n",
       "..      ...           ...  ...                 ...                  ...   \n",
       "995   81000     Краснодар   55       Пляжный отдых    Морской транспорт   \n",
       "996   96000     Краснодар   32         Архитектура                Поезд   \n",
       "997   56000     Краснодар   68         Архитектура              Самолет   \n",
       "998  162000     Краснодар   69         Архитектура              Самолет   \n",
       "999  171000     Краснодар   35         Архитектура           Автомобиль   \n",
       "\n",
       "     family_members    target  \n",
       "0                 1  New York  \n",
       "1                 1    London  \n",
       "2                 2    Sydney  \n",
       "3                 0  New York  \n",
       "4                 1    Sydney  \n",
       "..              ...       ...  \n",
       "995               2     Paris  \n",
       "996               1     Paris  \n",
       "997               2     Paris  \n",
       "998               0    Sydney  \n",
       "999               1  New York  \n",
       "\n",
       "[1000 rows x 7 columns]"
      ]
     },
     "execution_count": 51,
     "metadata": {},
     "output_type": "execute_result"
    }
   ],
   "source": [
    "df"
   ]
  },
  {
   "cell_type": "code",
   "execution_count": 52,
   "metadata": {},
   "outputs": [
    {
     "data": {
      "text/html": [
       "<div>\n",
       "<style scoped>\n",
       "    .dataframe tbody tr th:only-of-type {\n",
       "        vertical-align: middle;\n",
       "    }\n",
       "\n",
       "    .dataframe tbody tr th {\n",
       "        vertical-align: top;\n",
       "    }\n",
       "\n",
       "    .dataframe thead th {\n",
       "        text-align: right;\n",
       "    }\n",
       "</style>\n",
       "<table border=\"1\" class=\"dataframe\">\n",
       "  <thead>\n",
       "    <tr style=\"text-align: right;\">\n",
       "      <th></th>\n",
       "      <th>salary</th>\n",
       "      <th>city</th>\n",
       "      <th>age</th>\n",
       "      <th>vacation_preference</th>\n",
       "      <th>transport_preference</th>\n",
       "      <th>family_members</th>\n",
       "      <th>target</th>\n",
       "    </tr>\n",
       "  </thead>\n",
       "  <tbody>\n",
       "    <tr>\n",
       "      <th>0</th>\n",
       "      <td>196000</td>\n",
       "      <td>Краснодар</td>\n",
       "      <td>25</td>\n",
       "      <td>Шоппинг</td>\n",
       "      <td>Автомобиль</td>\n",
       "      <td>1</td>\n",
       "      <td>New York</td>\n",
       "    </tr>\n",
       "    <tr>\n",
       "      <th>1</th>\n",
       "      <td>152000</td>\n",
       "      <td>Екатеринбург</td>\n",
       "      <td>60</td>\n",
       "      <td>Архитектура</td>\n",
       "      <td>Самолет</td>\n",
       "      <td>1</td>\n",
       "      <td>London</td>\n",
       "    </tr>\n",
       "    <tr>\n",
       "      <th>2</th>\n",
       "      <td>83000</td>\n",
       "      <td>Томск</td>\n",
       "      <td>49</td>\n",
       "      <td>Архитектура</td>\n",
       "      <td>Автомобиль</td>\n",
       "      <td>2</td>\n",
       "      <td>Sydney</td>\n",
       "    </tr>\n",
       "    <tr>\n",
       "      <th>3</th>\n",
       "      <td>161000</td>\n",
       "      <td>Краснодар</td>\n",
       "      <td>41</td>\n",
       "      <td>Шоппинг</td>\n",
       "      <td>Автомобиль</td>\n",
       "      <td>0</td>\n",
       "      <td>New York</td>\n",
       "    </tr>\n",
       "    <tr>\n",
       "      <th>4</th>\n",
       "      <td>146000</td>\n",
       "      <td>Краснодар</td>\n",
       "      <td>58</td>\n",
       "      <td>Архитектура</td>\n",
       "      <td>Самолет</td>\n",
       "      <td>1</td>\n",
       "      <td>Sydney</td>\n",
       "    </tr>\n",
       "  </tbody>\n",
       "</table>\n",
       "</div>"
      ],
      "text/plain": [
       "   salary          city  age vacation_preference transport_preference  \\\n",
       "0  196000     Краснодар   25             Шоппинг           Автомобиль   \n",
       "1  152000  Екатеринбург   60         Архитектура              Самолет   \n",
       "2   83000         Томск   49         Архитектура           Автомобиль   \n",
       "3  161000     Краснодар   41             Шоппинг           Автомобиль   \n",
       "4  146000     Краснодар   58         Архитектура              Самолет   \n",
       "\n",
       "   family_members    target  \n",
       "0               1  New York  \n",
       "1               1    London  \n",
       "2               2    Sydney  \n",
       "3               0  New York  \n",
       "4               1    Sydney  "
      ]
     },
     "execution_count": 52,
     "metadata": {},
     "output_type": "execute_result"
    }
   ],
   "source": [
    "df.head()"
   ]
  },
  {
   "cell_type": "code",
   "execution_count": 53,
   "metadata": {},
   "outputs": [
    {
     "data": {
      "text/plain": [
       "<bound method NDFrame.head of      salary          city  age vacation_preference transport_preference  \\\n",
       "0    196000     Краснодар   25             Шоппинг           Автомобиль   \n",
       "1    152000  Екатеринбург   60         Архитектура              Самолет   \n",
       "2     83000         Томск   49         Архитектура           Автомобиль   \n",
       "3    161000     Краснодар   41             Шоппинг           Автомобиль   \n",
       "4    146000     Краснодар   58         Архитектура              Самолет   \n",
       "..      ...           ...  ...                 ...                  ...   \n",
       "995   81000     Краснодар   55       Пляжный отдых    Морской транспорт   \n",
       "996   96000     Краснодар   32         Архитектура                Поезд   \n",
       "997   56000     Краснодар   68         Архитектура              Самолет   \n",
       "998  162000     Краснодар   69         Архитектура              Самолет   \n",
       "999  171000     Краснодар   35         Архитектура           Автомобиль   \n",
       "\n",
       "     family_members    target  \n",
       "0                 1  New York  \n",
       "1                 1    London  \n",
       "2                 2    Sydney  \n",
       "3                 0  New York  \n",
       "4                 1    Sydney  \n",
       "..              ...       ...  \n",
       "995               2     Paris  \n",
       "996               1     Paris  \n",
       "997               2     Paris  \n",
       "998               0    Sydney  \n",
       "999               1  New York  \n",
       "\n",
       "[1000 rows x 7 columns]>"
      ]
     },
     "execution_count": 53,
     "metadata": {},
     "output_type": "execute_result"
    }
   ],
   "source": [
    "df.head"
   ]
  },
  {
   "cell_type": "code",
   "execution_count": 54,
   "metadata": {},
   "outputs": [
    {
     "data": {
      "text/plain": [
       "<bound method NDFrame.describe of      salary          city  age vacation_preference transport_preference  \\\n",
       "0    196000     Краснодар   25             Шоппинг           Автомобиль   \n",
       "1    152000  Екатеринбург   60         Архитектура              Самолет   \n",
       "2     83000         Томск   49         Архитектура           Автомобиль   \n",
       "3    161000     Краснодар   41             Шоппинг           Автомобиль   \n",
       "4    146000     Краснодар   58         Архитектура              Самолет   \n",
       "..      ...           ...  ...                 ...                  ...   \n",
       "995   81000     Краснодар   55       Пляжный отдых    Морской транспорт   \n",
       "996   96000     Краснодар   32         Архитектура                Поезд   \n",
       "997   56000     Краснодар   68         Архитектура              Самолет   \n",
       "998  162000     Краснодар   69         Архитектура              Самолет   \n",
       "999  171000     Краснодар   35         Архитектура           Автомобиль   \n",
       "\n",
       "     family_members    target  \n",
       "0                 1  New York  \n",
       "1                 1    London  \n",
       "2                 2    Sydney  \n",
       "3                 0  New York  \n",
       "4                 1    Sydney  \n",
       "..              ...       ...  \n",
       "995               2     Paris  \n",
       "996               1     Paris  \n",
       "997               2     Paris  \n",
       "998               0    Sydney  \n",
       "999               1  New York  \n",
       "\n",
       "[1000 rows x 7 columns]>"
      ]
     },
     "execution_count": 54,
     "metadata": {},
     "output_type": "execute_result"
    }
   ],
   "source": [
    "df.describe\n"
   ]
  },
  {
   "cell_type": "code",
   "execution_count": 55,
   "metadata": {},
   "outputs": [
    {
     "data": {
      "text/html": [
       "<div>\n",
       "<style scoped>\n",
       "    .dataframe tbody tr th:only-of-type {\n",
       "        vertical-align: middle;\n",
       "    }\n",
       "\n",
       "    .dataframe tbody tr th {\n",
       "        vertical-align: top;\n",
       "    }\n",
       "\n",
       "    .dataframe thead th {\n",
       "        text-align: right;\n",
       "    }\n",
       "</style>\n",
       "<table border=\"1\" class=\"dataframe\">\n",
       "  <thead>\n",
       "    <tr style=\"text-align: right;\">\n",
       "      <th></th>\n",
       "      <th>salary</th>\n",
       "      <th>age</th>\n",
       "      <th>family_members</th>\n",
       "    </tr>\n",
       "  </thead>\n",
       "  <tbody>\n",
       "    <tr>\n",
       "      <th>count</th>\n",
       "      <td>1000.000000</td>\n",
       "      <td>1000.000000</td>\n",
       "      <td>1000.000000</td>\n",
       "    </tr>\n",
       "    <tr>\n",
       "      <th>mean</th>\n",
       "      <td>111935.000000</td>\n",
       "      <td>55.209000</td>\n",
       "      <td>1.295000</td>\n",
       "    </tr>\n",
       "    <tr>\n",
       "      <th>std</th>\n",
       "      <td>54580.049073</td>\n",
       "      <td>11.925164</td>\n",
       "      <td>0.885867</td>\n",
       "    </tr>\n",
       "    <tr>\n",
       "      <th>min</th>\n",
       "      <td>0.000000</td>\n",
       "      <td>18.000000</td>\n",
       "      <td>0.000000</td>\n",
       "    </tr>\n",
       "    <tr>\n",
       "      <th>25%</th>\n",
       "      <td>68000.000000</td>\n",
       "      <td>50.000000</td>\n",
       "      <td>1.000000</td>\n",
       "    </tr>\n",
       "    <tr>\n",
       "      <th>50%</th>\n",
       "      <td>99000.000000</td>\n",
       "      <td>58.000000</td>\n",
       "      <td>1.000000</td>\n",
       "    </tr>\n",
       "    <tr>\n",
       "      <th>75%</th>\n",
       "      <td>161000.000000</td>\n",
       "      <td>63.000000</td>\n",
       "      <td>2.000000</td>\n",
       "    </tr>\n",
       "    <tr>\n",
       "      <th>max</th>\n",
       "      <td>250000.000000</td>\n",
       "      <td>82.000000</td>\n",
       "      <td>4.000000</td>\n",
       "    </tr>\n",
       "  </tbody>\n",
       "</table>\n",
       "</div>"
      ],
      "text/plain": [
       "              salary          age  family_members\n",
       "count    1000.000000  1000.000000     1000.000000\n",
       "mean   111935.000000    55.209000        1.295000\n",
       "std     54580.049073    11.925164        0.885867\n",
       "min         0.000000    18.000000        0.000000\n",
       "25%     68000.000000    50.000000        1.000000\n",
       "50%     99000.000000    58.000000        1.000000\n",
       "75%    161000.000000    63.000000        2.000000\n",
       "max    250000.000000    82.000000        4.000000"
      ]
     },
     "execution_count": 55,
     "metadata": {},
     "output_type": "execute_result"
    }
   ],
   "source": [
    "df.describe()"
   ]
  },
  {
   "cell_type": "code",
   "execution_count": 56,
   "metadata": {},
   "outputs": [
    {
     "data": {
      "text/plain": [
       "0      196000\n",
       "1      152000\n",
       "2       83000\n",
       "3      161000\n",
       "4      146000\n",
       "        ...  \n",
       "995     81000\n",
       "996     96000\n",
       "997     56000\n",
       "998    162000\n",
       "999    171000\n",
       "Name: salary, Length: 1000, dtype: int64"
      ]
     },
     "execution_count": 56,
     "metadata": {},
     "output_type": "execute_result"
    }
   ],
   "source": [
    "df.salary"
   ]
  },
  {
   "cell_type": "code",
   "execution_count": 57,
   "metadata": {},
   "outputs": [
    {
     "data": {
      "text/plain": [
       "0      196000\n",
       "1      152000\n",
       "2       83000\n",
       "3      161000\n",
       "4      146000\n",
       "        ...  \n",
       "995     81000\n",
       "996     96000\n",
       "997     56000\n",
       "998    162000\n",
       "999    171000\n",
       "Name: salary, Length: 1000, dtype: int64"
      ]
     },
     "execution_count": 57,
     "metadata": {},
     "output_type": "execute_result"
    }
   ],
   "source": [
    "df['salary']"
   ]
  },
  {
   "cell_type": "code",
   "execution_count": 58,
   "metadata": {},
   "outputs": [
    {
     "data": {
      "text/plain": [
       "<matplotlib.axes._subplots.AxesSubplot at 0x26e67b53b48>"
      ]
     },
     "execution_count": 58,
     "metadata": {},
     "output_type": "execute_result"
    },
    {
     "data": {
      "image/png": "[encoded data removed]",
      "text/plain": [
       "<Figure size 432x288 with 1 Axes>"
      ]
     },
     "metadata": {
      "needs_background": "light"
     },
     "output_type": "display_data"
    }
   ],
   "source": [
    "df.salary.hist()"
   ]
  },
  {
   "cell_type": "code",
   "execution_count": 59,
   "metadata": {},
   "outputs": [
    {
     "data": {
      "text/plain": [
       "<matplotlib.axes._subplots.AxesSubplot at 0x26e679cfa08>"
      ]
     },
     "execution_count": 59,
     "metadata": {},
     "output_type": "execute_result"
    },
    {
     "data": {
      "image/png": "[encoded data removed]",
      "text/plain": [
       "<Figure size 432x288 with 1 Axes>"
      ]
     },
     "metadata": {
      "needs_background": "light"
     },
     "output_type": "display_data"
    }
   ],
   "source": [
    "df.age.hist()"
   ]
  },
  {
   "cell_type": "code",
   "execution_count": 60,
   "metadata": {},
   "outputs": [
    {
     "data": {
      "text/plain": [
       "<matplotlib.axes._subplots.AxesSubplot at 0x26e67a6c788>"
      ]
     },
     "execution_count": 60,
     "metadata": {},
     "output_type": "execute_result"
    },
    {
     "data": {
      "image/png": "[encoded data removed]",
      "text/plain": [
       "<Figure size 432x288 with 1 Axes>"
      ]
     },
     "metadata": {
      "needs_background": "light"
     },
     "output_type": "display_data"
    }
   ],
   "source": [
    "df.city.hist()"
   ]
  },
  {
   "cell_type": "code",
   "execution_count": 61,
   "metadata": {},
   "outputs": [
    {
     "data": {
      "text/plain": [
       "Краснодар       307\n",
       "Томск           267\n",
       "Хабаровск       107\n",
       "Киев            106\n",
       "Омск             84\n",
       "Екатеринбург     67\n",
       "Новосибирск      33\n",
       "Минск            14\n",
       "Петербург        13\n",
       "Ярославль         1\n",
       "Москва            1\n",
       "Name: city, dtype: int64"
      ]
     },
     "execution_count": 61,
     "metadata": {},
     "output_type": "execute_result"
    }
   ],
   "source": [
    "df.city.value_counts()"
   ]
  },
  {
   "cell_type": "code",
   "execution_count": 62,
   "metadata": {},
   "outputs": [
    {
     "data": {
      "text/plain": [
       "<matplotlib.axes._subplots.AxesSubplot at 0x26e68d06408>"
      ]
     },
     "execution_count": 62,
     "metadata": {},
     "output_type": "execute_result"
    },
    {
     "data": {
      "image/png": "[encoded data removed]",
      "text/plain": [
       "<Figure size 432x288 with 1 Axes>"
      ]
     },
     "metadata": {
      "needs_background": "light"
     },
     "output_type": "display_data"
    }
   ],
   "source": [
    "df.city.value_counts().plot(kind='bar')"
   ]
  },
  {
   "cell_type": "code",
   "execution_count": 63,
   "metadata": {},
   "outputs": [
    {
     "data": {
      "text/plain": [
       "<matplotlib.axes._subplots.AxesSubplot at 0x26e68da9708>"
      ]
     },
     "execution_count": 63,
     "metadata": {},
     "output_type": "execute_result"
    },
    {
     "data": {
      "image/png": "[encoded data removed]",
      "text/plain": [
       "<Figure size 432x288 with 1 Axes>"
      ]
     },
     "metadata": {
      "needs_background": "light"
     },
     "output_type": "display_data"
    }
   ],
   "source": [
    "df.vacation_preference.value_counts().plot(kind='bar')"
   ]
  },
  {
   "cell_type": "code",
   "execution_count": 64,
   "metadata": {},
   "outputs": [
    {
     "data": {
      "text/plain": [
       "<matplotlib.axes._subplots.AxesSubplot at 0x26e64a28508>"
      ]
     },
     "execution_count": 64,
     "metadata": {},
     "output_type": "execute_result"
    },
    {
     "data": {
      "image/png": "[encoded data removed]",
      "text/plain": [
       "<Figure size 432x288 with 1 Axes>"
      ]
     },
     "metadata": {
      "needs_background": "light"
     },
     "output_type": "display_data"
    }
   ],
   "source": [
    "df.transport_preference.value_counts().plot(kind='bar')"
   ]
  },
  {
   "cell_type": "code",
   "execution_count": 65,
   "metadata": {},
   "outputs": [
    {
     "data": {
      "text/html": [
       "<div>\n",
       "<style scoped>\n",
       "    .dataframe tbody tr th:only-of-type {\n",
       "        vertical-align: middle;\n",
       "    }\n",
       "\n",
       "    .dataframe tbody tr th {\n",
       "        vertical-align: top;\n",
       "    }\n",
       "\n",
       "    .dataframe thead th {\n",
       "        text-align: right;\n",
       "    }\n",
       "</style>\n",
       "<table border=\"1\" class=\"dataframe\">\n",
       "  <thead>\n",
       "    <tr style=\"text-align: right;\">\n",
       "      <th></th>\n",
       "      <th>salary</th>\n",
       "      <th>city</th>\n",
       "      <th>age</th>\n",
       "      <th>vacation_preference</th>\n",
       "      <th>transport_preference</th>\n",
       "      <th>family_members</th>\n",
       "      <th>target</th>\n",
       "    </tr>\n",
       "  </thead>\n",
       "  <tbody>\n",
       "    <tr>\n",
       "      <th>0</th>\n",
       "      <td>196000</td>\n",
       "      <td>Краснодар</td>\n",
       "      <td>25</td>\n",
       "      <td>Шоппинг</td>\n",
       "      <td>Автомобиль</td>\n",
       "      <td>1</td>\n",
       "      <td>New York</td>\n",
       "    </tr>\n",
       "    <tr>\n",
       "      <th>1</th>\n",
       "      <td>152000</td>\n",
       "      <td>Екатеринбург</td>\n",
       "      <td>60</td>\n",
       "      <td>Архитектура</td>\n",
       "      <td>Самолет</td>\n",
       "      <td>1</td>\n",
       "      <td>London</td>\n",
       "    </tr>\n",
       "    <tr>\n",
       "      <th>2</th>\n",
       "      <td>83000</td>\n",
       "      <td>Томск</td>\n",
       "      <td>49</td>\n",
       "      <td>Архитектура</td>\n",
       "      <td>Автомобиль</td>\n",
       "      <td>2</td>\n",
       "      <td>Sydney</td>\n",
       "    </tr>\n",
       "    <tr>\n",
       "      <th>3</th>\n",
       "      <td>161000</td>\n",
       "      <td>Краснодар</td>\n",
       "      <td>41</td>\n",
       "      <td>Шоппинг</td>\n",
       "      <td>Автомобиль</td>\n",
       "      <td>0</td>\n",
       "      <td>New York</td>\n",
       "    </tr>\n",
       "    <tr>\n",
       "      <th>4</th>\n",
       "      <td>146000</td>\n",
       "      <td>Краснодар</td>\n",
       "      <td>58</td>\n",
       "      <td>Архитектура</td>\n",
       "      <td>Самолет</td>\n",
       "      <td>1</td>\n",
       "      <td>Sydney</td>\n",
       "    </tr>\n",
       "  </tbody>\n",
       "</table>\n",
       "</div>"
      ],
      "text/plain": [
       "   salary          city  age vacation_preference transport_preference  \\\n",
       "0  196000     Краснодар   25             Шоппинг           Автомобиль   \n",
       "1  152000  Екатеринбург   60         Архитектура              Самолет   \n",
       "2   83000         Томск   49         Архитектура           Автомобиль   \n",
       "3  161000     Краснодар   41             Шоппинг           Автомобиль   \n",
       "4  146000     Краснодар   58         Архитектура              Самолет   \n",
       "\n",
       "   family_members    target  \n",
       "0               1  New York  \n",
       "1               1    London  \n",
       "2               2    Sydney  \n",
       "3               0  New York  \n",
       "4               1    Sydney  "
      ]
     },
     "execution_count": 65,
     "metadata": {},
     "output_type": "execute_result"
    }
   ],
   "source": [
    "df.head()"
   ]
  },
  {
   "cell_type": "code",
   "execution_count": 66,
   "metadata": {},
   "outputs": [
    {
     "data": {
      "text/html": [
       "<div>\n",
       "<style scoped>\n",
       "    .dataframe tbody tr th:only-of-type {\n",
       "        vertical-align: middle;\n",
       "    }\n",
       "\n",
       "    .dataframe tbody tr th {\n",
       "        vertical-align: top;\n",
       "    }\n",
       "\n",
       "    .dataframe thead th {\n",
       "        text-align: right;\n",
       "    }\n",
       "</style>\n",
       "<table border=\"1\" class=\"dataframe\">\n",
       "  <thead>\n",
       "    <tr style=\"text-align: right;\">\n",
       "      <th></th>\n",
       "      <th>salary</th>\n",
       "      <th>age</th>\n",
       "      <th>family_members</th>\n",
       "      <th>target</th>\n",
       "      <th>city_Екатеринбург</th>\n",
       "      <th>city_Киев</th>\n",
       "      <th>city_Краснодар</th>\n",
       "      <th>city_Минск</th>\n",
       "      <th>city_Москва</th>\n",
       "      <th>city_Новосибирск</th>\n",
       "      <th>...</th>\n",
       "      <th>city_Ярославль</th>\n",
       "      <th>vacation_preference_Архитектура</th>\n",
       "      <th>vacation_preference_Ночные клубы</th>\n",
       "      <th>vacation_preference_Пляжный отдых</th>\n",
       "      <th>vacation_preference_Шоппинг</th>\n",
       "      <th>transport_preference_Автомобиль</th>\n",
       "      <th>transport_preference_Космический корабль</th>\n",
       "      <th>transport_preference_Морской транспорт</th>\n",
       "      <th>transport_preference_Поезд</th>\n",
       "      <th>transport_preference_Самолет</th>\n",
       "    </tr>\n",
       "  </thead>\n",
       "  <tbody>\n",
       "    <tr>\n",
       "      <th>0</th>\n",
       "      <td>196000</td>\n",
       "      <td>25</td>\n",
       "      <td>1</td>\n",
       "      <td>New York</td>\n",
       "      <td>0</td>\n",
       "      <td>0</td>\n",
       "      <td>1</td>\n",
       "      <td>0</td>\n",
       "      <td>0</td>\n",
       "      <td>0</td>\n",
       "      <td>...</td>\n",
       "      <td>0</td>\n",
       "      <td>0</td>\n",
       "      <td>0</td>\n",
       "      <td>0</td>\n",
       "      <td>1</td>\n",
       "      <td>1</td>\n",
       "      <td>0</td>\n",
       "      <td>0</td>\n",
       "      <td>0</td>\n",
       "      <td>0</td>\n",
       "    </tr>\n",
       "    <tr>\n",
       "      <th>1</th>\n",
       "      <td>152000</td>\n",
       "      <td>60</td>\n",
       "      <td>1</td>\n",
       "      <td>London</td>\n",
       "      <td>1</td>\n",
       "      <td>0</td>\n",
       "      <td>0</td>\n",
       "      <td>0</td>\n",
       "      <td>0</td>\n",
       "      <td>0</td>\n",
       "      <td>...</td>\n",
       "      <td>0</td>\n",
       "      <td>1</td>\n",
       "      <td>0</td>\n",
       "      <td>0</td>\n",
       "      <td>0</td>\n",
       "      <td>0</td>\n",
       "      <td>0</td>\n",
       "      <td>0</td>\n",
       "      <td>0</td>\n",
       "      <td>1</td>\n",
       "    </tr>\n",
       "    <tr>\n",
       "      <th>2</th>\n",
       "      <td>83000</td>\n",
       "      <td>49</td>\n",
       "      <td>2</td>\n",
       "      <td>Sydney</td>\n",
       "      <td>0</td>\n",
       "      <td>0</td>\n",
       "      <td>0</td>\n",
       "      <td>0</td>\n",
       "      <td>0</td>\n",
       "      <td>0</td>\n",
       "      <td>...</td>\n",
       "      <td>0</td>\n",
       "      <td>1</td>\n",
       "      <td>0</td>\n",
       "      <td>0</td>\n",
       "      <td>0</td>\n",
       "      <td>1</td>\n",
       "      <td>0</td>\n",
       "      <td>0</td>\n",
       "      <td>0</td>\n",
       "      <td>0</td>\n",
       "    </tr>\n",
       "    <tr>\n",
       "      <th>3</th>\n",
       "      <td>161000</td>\n",
       "      <td>41</td>\n",
       "      <td>0</td>\n",
       "      <td>New York</td>\n",
       "      <td>0</td>\n",
       "      <td>0</td>\n",
       "      <td>1</td>\n",
       "      <td>0</td>\n",
       "      <td>0</td>\n",
       "      <td>0</td>\n",
       "      <td>...</td>\n",
       "      <td>0</td>\n",
       "      <td>0</td>\n",
       "      <td>0</td>\n",
       "      <td>0</td>\n",
       "      <td>1</td>\n",
       "      <td>1</td>\n",
       "      <td>0</td>\n",
       "      <td>0</td>\n",
       "      <td>0</td>\n",
       "      <td>0</td>\n",
       "    </tr>\n",
       "    <tr>\n",
       "      <th>4</th>\n",
       "      <td>146000</td>\n",
       "      <td>58</td>\n",
       "      <td>1</td>\n",
       "      <td>Sydney</td>\n",
       "      <td>0</td>\n",
       "      <td>0</td>\n",
       "      <td>1</td>\n",
       "      <td>0</td>\n",
       "      <td>0</td>\n",
       "      <td>0</td>\n",
       "      <td>...</td>\n",
       "      <td>0</td>\n",
       "      <td>1</td>\n",
       "      <td>0</td>\n",
       "      <td>0</td>\n",
       "      <td>0</td>\n",
       "      <td>0</td>\n",
       "      <td>0</td>\n",
       "      <td>0</td>\n",
       "      <td>0</td>\n",
       "      <td>1</td>\n",
       "    </tr>\n",
       "    <tr>\n",
       "      <th>...</th>\n",
       "      <td>...</td>\n",
       "      <td>...</td>\n",
       "      <td>...</td>\n",
       "      <td>...</td>\n",
       "      <td>...</td>\n",
       "      <td>...</td>\n",
       "      <td>...</td>\n",
       "      <td>...</td>\n",
       "      <td>...</td>\n",
       "      <td>...</td>\n",
       "      <td>...</td>\n",
       "      <td>...</td>\n",
       "      <td>...</td>\n",
       "      <td>...</td>\n",
       "      <td>...</td>\n",
       "      <td>...</td>\n",
       "      <td>...</td>\n",
       "      <td>...</td>\n",
       "      <td>...</td>\n",
       "      <td>...</td>\n",
       "      <td>...</td>\n",
       "    </tr>\n",
       "    <tr>\n",
       "      <th>995</th>\n",
       "      <td>81000</td>\n",
       "      <td>55</td>\n",
       "      <td>2</td>\n",
       "      <td>Paris</td>\n",
       "      <td>0</td>\n",
       "      <td>0</td>\n",
       "      <td>1</td>\n",
       "      <td>0</td>\n",
       "      <td>0</td>\n",
       "      <td>0</td>\n",
       "      <td>...</td>\n",
       "      <td>0</td>\n",
       "      <td>0</td>\n",
       "      <td>0</td>\n",
       "      <td>1</td>\n",
       "      <td>0</td>\n",
       "      <td>0</td>\n",
       "      <td>0</td>\n",
       "      <td>1</td>\n",
       "      <td>0</td>\n",
       "      <td>0</td>\n",
       "    </tr>\n",
       "    <tr>\n",
       "      <th>996</th>\n",
       "      <td>96000</td>\n",
       "      <td>32</td>\n",
       "      <td>1</td>\n",
       "      <td>Paris</td>\n",
       "      <td>0</td>\n",
       "      <td>0</td>\n",
       "      <td>1</td>\n",
       "      <td>0</td>\n",
       "      <td>0</td>\n",
       "      <td>0</td>\n",
       "      <td>...</td>\n",
       "      <td>0</td>\n",
       "      <td>1</td>\n",
       "      <td>0</td>\n",
       "      <td>0</td>\n",
       "      <td>0</td>\n",
       "      <td>0</td>\n",
       "      <td>0</td>\n",
       "      <td>0</td>\n",
       "      <td>1</td>\n",
       "      <td>0</td>\n",
       "    </tr>\n",
       "    <tr>\n",
       "      <th>997</th>\n",
       "      <td>56000</td>\n",
       "      <td>68</td>\n",
       "      <td>2</td>\n",
       "      <td>Paris</td>\n",
       "      <td>0</td>\n",
       "      <td>0</td>\n",
       "      <td>1</td>\n",
       "      <td>0</td>\n",
       "      <td>0</td>\n",
       "      <td>0</td>\n",
       "      <td>...</td>\n",
       "      <td>0</td>\n",
       "      <td>1</td>\n",
       "      <td>0</td>\n",
       "      <td>0</td>\n",
       "      <td>0</td>\n",
       "      <td>0</td>\n",
       "      <td>0</td>\n",
       "      <td>0</td>\n",
       "      <td>0</td>\n",
       "      <td>1</td>\n",
       "    </tr>\n",
       "    <tr>\n",
       "      <th>998</th>\n",
       "      <td>162000</td>\n",
       "      <td>69</td>\n",
       "      <td>0</td>\n",
       "      <td>Sydney</td>\n",
       "      <td>0</td>\n",
       "      <td>0</td>\n",
       "      <td>1</td>\n",
       "      <td>0</td>\n",
       "      <td>0</td>\n",
       "      <td>0</td>\n",
       "      <td>...</td>\n",
       "      <td>0</td>\n",
       "      <td>1</td>\n",
       "      <td>0</td>\n",
       "      <td>0</td>\n",
       "      <td>0</td>\n",
       "      <td>0</td>\n",
       "      <td>0</td>\n",
       "      <td>0</td>\n",
       "      <td>0</td>\n",
       "      <td>1</td>\n",
       "    </tr>\n",
       "    <tr>\n",
       "      <th>999</th>\n",
       "      <td>171000</td>\n",
       "      <td>35</td>\n",
       "      <td>1</td>\n",
       "      <td>New York</td>\n",
       "      <td>0</td>\n",
       "      <td>0</td>\n",
       "      <td>1</td>\n",
       "      <td>0</td>\n",
       "      <td>0</td>\n",
       "      <td>0</td>\n",
       "      <td>...</td>\n",
       "      <td>0</td>\n",
       "      <td>1</td>\n",
       "      <td>0</td>\n",
       "      <td>0</td>\n",
       "      <td>0</td>\n",
       "      <td>1</td>\n",
       "      <td>0</td>\n",
       "      <td>0</td>\n",
       "      <td>0</td>\n",
       "      <td>0</td>\n",
       "    </tr>\n",
       "  </tbody>\n",
       "</table>\n",
       "<p>1000 rows × 24 columns</p>\n",
       "</div>"
      ],
      "text/plain": [
       "     salary  age  family_members    target  city_Екатеринбург  city_Киев  \\\n",
       "0    196000   25               1  New York                  0          0   \n",
       "1    152000   60               1    London                  1          0   \n",
       "2     83000   49               2    Sydney                  0          0   \n",
       "3    161000   41               0  New York                  0          0   \n",
       "4    146000   58               1    Sydney                  0          0   \n",
       "..      ...  ...             ...       ...                ...        ...   \n",
       "995   81000   55               2     Paris                  0          0   \n",
       "996   96000   32               1     Paris                  0          0   \n",
       "997   56000   68               2     Paris                  0          0   \n",
       "998  162000   69               0    Sydney                  0          0   \n",
       "999  171000   35               1  New York                  0          0   \n",
       "\n",
       "     city_Краснодар  city_Минск  city_Москва  city_Новосибирск  ...  \\\n",
       "0                 1           0            0                 0  ...   \n",
       "1                 0           0            0                 0  ...   \n",
       "2                 0           0            0                 0  ...   \n",
       "3                 1           0            0                 0  ...   \n",
       "4                 1           0            0                 0  ...   \n",
       "..              ...         ...          ...               ...  ...   \n",
       "995               1           0            0                 0  ...   \n",
       "996               1           0            0                 0  ...   \n",
       "997               1           0            0                 0  ...   \n",
       "998               1           0            0                 0  ...   \n",
       "999               1           0            0                 0  ...   \n",
       "\n",
       "     city_Ярославль  vacation_preference_Архитектура  \\\n",
       "0                 0                                0   \n",
       "1                 0                                1   \n",
       "2                 0                                1   \n",
       "3                 0                                0   \n",
       "4                 0                                1   \n",
       "..              ...                              ...   \n",
       "995               0                                0   \n",
       "996               0                                1   \n",
       "997               0                                1   \n",
       "998               0                                1   \n",
       "999               0                                1   \n",
       "\n",
       "     vacation_preference_Ночные клубы  vacation_preference_Пляжный отдых  \\\n",
       "0                                   0                                  0   \n",
       "1                                   0                                  0   \n",
       "2                                   0                                  0   \n",
       "3                                   0                                  0   \n",
       "4                                   0                                  0   \n",
       "..                                ...                                ...   \n",
       "995                                 0                                  1   \n",
       "996                                 0                                  0   \n",
       "997                                 0                                  0   \n",
       "998                                 0                                  0   \n",
       "999                                 0                                  0   \n",
       "\n",
       "     vacation_preference_Шоппинг  transport_preference_Автомобиль  \\\n",
       "0                              1                                1   \n",
       "1                              0                                0   \n",
       "2                              0                                1   \n",
       "3                              1                                1   \n",
       "4                              0                                0   \n",
       "..                           ...                              ...   \n",
       "995                            0                                0   \n",
       "996                            0                                0   \n",
       "997                            0                                0   \n",
       "998                            0                                0   \n",
       "999                            0                                1   \n",
       "\n",
       "     transport_preference_Космический корабль  \\\n",
       "0                                           0   \n",
       "1                                           0   \n",
       "2                                           0   \n",
       "3                                           0   \n",
       "4                                           0   \n",
       "..                                        ...   \n",
       "995                                         0   \n",
       "996                                         0   \n",
       "997                                         0   \n",
       "998                                         0   \n",
       "999                                         0   \n",
       "\n",
       "     transport_preference_Морской транспорт  transport_preference_Поезд  \\\n",
       "0                                         0                           0   \n",
       "1                                         0                           0   \n",
       "2                                         0                           0   \n",
       "3                                         0                           0   \n",
       "4                                         0                           0   \n",
       "..                                      ...                         ...   \n",
       "995                                       1                           0   \n",
       "996                                       0                           1   \n",
       "997                                       0                           0   \n",
       "998                                       0                           0   \n",
       "999                                       0                           0   \n",
       "\n",
       "     transport_preference_Самолет  \n",
       "0                               0  \n",
       "1                               1  \n",
       "2                               0  \n",
       "3                               0  \n",
       "4                               1  \n",
       "..                            ...  \n",
       "995                             0  \n",
       "996                             0  \n",
       "997                             1  \n",
       "998                             1  \n",
       "999                             0  \n",
       "\n",
       "[1000 rows x 24 columns]"
      ]
     },
     "execution_count": 66,
     "metadata": {},
     "output_type": "execute_result"
    }
   ],
   "source": [
    "df_proc = pd.get_dummies(df, columns=['city', 'vacation_preference', 'transport_preference'])\n",
    "df_proc"
   ]
  },
  {
   "cell_type": "code",
   "execution_count": 67,
   "metadata": {},
   "outputs": [],
   "source": [
    "from sklearn.ensemble import GradientBoostingClassifier"
   ]
  },
  {
   "cell_type": "code",
   "execution_count": 68,
   "metadata": {},
   "outputs": [],
   "source": [
    "gbc = GradientBoostingClassifier()"
   ]
  },
  {
   "cell_type": "code",
   "execution_count": 69,
   "metadata": {},
   "outputs": [],
   "source": [
    "input_data = df_proc.drop('target', axis=1)"
   ]
  },
  {
   "cell_type": "code",
   "execution_count": 70,
   "metadata": {},
   "outputs": [],
   "source": [
    "out_data = df_proc.target"
   ]
  },
  {
   "cell_type": "code",
   "execution_count": 71,
   "metadata": {},
   "outputs": [
    {
     "data": {
      "text/plain": [
       "GradientBoostingClassifier(ccp_alpha=0.0, criterion='friedman_mse', init=None,\n",
       "                           learning_rate=0.1, loss='deviance', max_depth=3,\n",
       "                           max_features=None, max_leaf_nodes=None,\n",
       "                           min_impurity_decrease=0.0, min_impurity_split=None,\n",
       "                           min_samples_leaf=1, min_samples_split=2,\n",
       "                           min_weight_fraction_leaf=0.0, n_estimators=100,\n",
       "                           n_iter_no_change=None, presort='deprecated',\n",
       "                           random_state=None, subsample=1.0, tol=0.0001,\n",
       "                           validation_fraction=0.1, verbose=0,\n",
       "                           warm_start=False)"
      ]
     },
     "execution_count": 71,
     "metadata": {},
     "output_type": "execute_result"
    }
   ],
   "source": [
    "gbc.fit(input_data, out_data)"
   ]
  },
  {
   "cell_type": "code",
   "execution_count": 72,
   "metadata": {},
   "outputs": [
    {
     "data": {
      "text/plain": [
       "{'salary': 0,\n",
       " 'age': 0,\n",
       " 'family_members': 0,\n",
       " 'target': 0,\n",
       " 'city_Екатеринбург': 0,\n",
       " 'city_Киев': 0,\n",
       " 'city_Краснодар': 0,\n",
       " 'city_Минск': 0,\n",
       " 'city_Москва': 0,\n",
       " 'city_Новосибирск': 0,\n",
       " 'city_Омск': 0,\n",
       " 'city_Петербург': 0,\n",
       " 'city_Томск': 0,\n",
       " 'city_Хабаровск': 0,\n",
       " 'city_Ярославль': 0,\n",
       " 'vacation_preference_Архитектура': 0,\n",
       " 'vacation_preference_Ночные клубы': 0,\n",
       " 'vacation_preference_Пляжный отдых': 0,\n",
       " 'vacation_preference_Шоппинг': 0,\n",
       " 'transport_preference_Автомобиль': 0,\n",
       " 'transport_preference_Космический корабль': 0,\n",
       " 'transport_preference_Морской транспорт': 0,\n",
       " 'transport_preference_Поезд': 0,\n",
       " 'transport_preference_Самолет': 0}"
      ]
     },
     "execution_count": 72,
     "metadata": {},
     "output_type": "execute_result"
    }
   ],
   "source": [
    "{col:0 for col in df_proc.columns}"
   ]
  },
  {
   "cell_type": "code",
   "execution_count": 74,
   "metadata": {},
   "outputs": [],
   "source": [
    "s = {'salary': 140000,\n",
    " 'age': 55,\n",
    " 'family_members': 1,\n",
    " 'city_Екатеринбург': 0,\n",
    " 'city_Киев': 0,\n",
    " 'city_Краснодар': 1,\n",
    " 'city_Минск': 0,\n",
    " 'city_Москва': 0,\n",
    " 'city_Новосибирск': 0,\n",
    " 'city_Омск': 0,\n",
    " 'city_Петербург': 0,\n",
    " 'city_Томск': 0,\n",
    " 'city_Хабаровск': 0,\n",
    " 'city_Ярославль': 0,\n",
    " 'vacation_preference_Архитектура': 1,\n",
    " 'vacation_preference_Ночные клубы': 0,\n",
    " 'vacation_preference_Пляжный отдых': 0,\n",
    " 'vacation_preference_Шоппинг': 0,\n",
    " 'transport_preference_Автомобиль': 0,\n",
    " 'transport_preference_Космический корабль': 0,\n",
    " 'transport_preference_Морской транспорт': 0,\n",
    " 'transport_preference_Поезд': 1,\n",
    " 'transport_preference_Самолет': 0}"
   ]
  },
  {
   "cell_type": "code",
   "execution_count": 75,
   "metadata": {},
   "outputs": [],
   "source": [
    "row = pd.DataFrame(data=[s])"
   ]
  },
  {
   "cell_type": "code",
   "execution_count": 76,
   "metadata": {},
   "outputs": [
    {
     "data": {
      "text/plain": [
       "array(['London'], dtype=object)"
      ]
     },
     "execution_count": 76,
     "metadata": {},
     "output_type": "execute_result"
    }
   ],
   "source": [
    "gbc.predict(row)"
   ]
  },
  {
   "cell_type": "code",
   "execution_count": null,
   "metadata": {},
   "outputs": [],
   "source": []
  }
 ],
 "metadata": {
  "kernelspec": {
   "display_name": "Python 3",
   "language": "python",
   "name": "python3"
  },
  "language_info": {
   "codemirror_mode": {
    "name": "ipython",
    "version": 3
   },
   "file_extension": ".py",
   "mimetype": "text/x-python",
   "name": "python",
   "nbconvert_exporter": "python",
   "pygments_lexer": "ipython3",
   "version": "3.7.6"
  }
 },
 "nbformat": 4,
 "nbformat_minor": 4
}
