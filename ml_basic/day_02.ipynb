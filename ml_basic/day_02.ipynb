{
 "cells": [
  {
   "cell_type": "markdown",
   "metadata": {},
   "source": [
    "data from https://www.cbr.ru/currency_base/dynamics/"
   ]
  },
  {
   "cell_type": "code",
   "execution_count": 1,
   "metadata": {},
   "outputs": [],
   "source": [
    "import pandas as pd"
   ]
  },
  {
   "cell_type": "code",
   "execution_count": 5,
   "metadata": {},
   "outputs": [],
   "source": [
    "df = pd.read_excel('RC_F01_01_2017_T15_06_2020.xlsx')"
   ]
  },
  {
   "cell_type": "code",
   "execution_count": 6,
   "metadata": {},
   "outputs": [
    {
     "data": {
      "text/html": [
       "<div>\n",
       "<style scoped>\n",
       "    .dataframe tbody tr th:only-of-type {\n",
       "        vertical-align: middle;\n",
       "    }\n",
       "\n",
       "    .dataframe tbody tr th {\n",
       "        vertical-align: top;\n",
       "    }\n",
       "\n",
       "    .dataframe thead th {\n",
       "        text-align: right;\n",
       "    }\n",
       "</style>\n",
       "<table border=\"1\" class=\"dataframe\">\n",
       "  <thead>\n",
       "    <tr style=\"text-align: right;\">\n",
       "      <th></th>\n",
       "      <th>nominal</th>\n",
       "      <th>data</th>\n",
       "      <th>curs</th>\n",
       "      <th>cdx</th>\n",
       "    </tr>\n",
       "  </thead>\n",
       "  <tbody>\n",
       "    <tr>\n",
       "      <th>0</th>\n",
       "      <td>1</td>\n",
       "      <td>2017-01-10</td>\n",
       "      <td>59.8961</td>\n",
       "      <td>Доллар США</td>\n",
       "    </tr>\n",
       "    <tr>\n",
       "      <th>1</th>\n",
       "      <td>1</td>\n",
       "      <td>2017-01-11</td>\n",
       "      <td>59.9533</td>\n",
       "      <td>Доллар США</td>\n",
       "    </tr>\n",
       "    <tr>\n",
       "      <th>2</th>\n",
       "      <td>1</td>\n",
       "      <td>2017-01-12</td>\n",
       "      <td>60.1614</td>\n",
       "      <td>Доллар США</td>\n",
       "    </tr>\n",
       "    <tr>\n",
       "      <th>3</th>\n",
       "      <td>1</td>\n",
       "      <td>2017-01-13</td>\n",
       "      <td>59.4978</td>\n",
       "      <td>Доллар США</td>\n",
       "    </tr>\n",
       "    <tr>\n",
       "      <th>4</th>\n",
       "      <td>1</td>\n",
       "      <td>2017-01-14</td>\n",
       "      <td>59.3700</td>\n",
       "      <td>Доллар США</td>\n",
       "    </tr>\n",
       "  </tbody>\n",
       "</table>\n",
       "</div>"
      ],
      "text/plain": [
       "   nominal       data     curs         cdx\n",
       "0        1 2017-01-10  59.8961  Доллар США\n",
       "1        1 2017-01-11  59.9533  Доллар США\n",
       "2        1 2017-01-12  60.1614  Доллар США\n",
       "3        1 2017-01-13  59.4978  Доллар США\n",
       "4        1 2017-01-14  59.3700  Доллар США"
      ]
     },
     "execution_count": 6,
     "metadata": {},
     "output_type": "execute_result"
    }
   ],
   "source": [
    "df.head()"
   ]
  },
  {
   "cell_type": "code",
   "execution_count": 7,
   "metadata": {},
   "outputs": [
    {
     "data": {
      "text/plain": [
       "<matplotlib.axes._subplots.AxesSubplot at 0x23c810ec888>"
      ]
     },
     "execution_count": 7,
     "metadata": {},
     "output_type": "execute_result"
    },
    {
     "data": {
      "image/png": "[encoded data removed]",
      "text/plain": [
       "<Figure size 432x288 with 1 Axes>"
      ]
     },
     "metadata": {
      "needs_background": "light"
     },
     "output_type": "display_data"
    }
   ],
   "source": [
    "df.curs.plot()"
   ]
  },
  {
   "cell_type": "code",
   "execution_count": 8,
   "metadata": {},
   "outputs": [
    {
     "data": {
      "text/plain": [
       "100    56.6747\n",
       "101    56.5878\n",
       "102    56.9857\n",
       "103    57.0020\n",
       "104    56.9096\n",
       "105    57.0303\n",
       "106    57.4437\n",
       "107    57.7408\n",
       "108    57.9585\n",
       "109    58.5786\n",
       "110    60.0000\n",
       "111    60.1482\n",
       "112    59.6564\n",
       "113    59.0014\n",
       "114    58.8843\n",
       "115    59.5415\n",
       "116    59.0855\n",
       "117    59.3862\n",
       "118    58.9695\n",
       "119    59.2295\n",
       "120    59.5787\n",
       "121    60.2426\n",
       "122    60.3792\n",
       "123    60.3014\n",
       "124    60.7397\n",
       "125    60.6227\n",
       "126    60.1836\n",
       "127    59.8806\n",
       "Name: curs, dtype: float64"
      ]
     },
     "execution_count": 8,
     "metadata": {},
     "output_type": "execute_result"
    }
   ],
   "source": [
    "df.curs[100:128]"
   ]
  },
  {
   "cell_type": "code",
   "execution_count": 10,
   "metadata": {},
   "outputs": [
    {
     "data": {
      "text/plain": [
       "128    59.0657\n",
       "129    59.3705\n",
       "130    59.2418\n",
       "131    59.0823\n",
       "132    58.9325\n",
       "133    59.6572\n",
       "134    59.8185\n",
       "Name: curs, dtype: float64"
      ]
     },
     "execution_count": 10,
     "metadata": {},
     "output_type": "execute_result"
    }
   ],
   "source": [
    "df.curs[128:135]"
   ]
  },
  {
   "cell_type": "code",
   "execution_count": 11,
   "metadata": {},
   "outputs": [],
   "source": [
    "past = 28\n",
    "future = 7"
   ]
  },
  {
   "cell_type": "code",
   "execution_count": 17,
   "metadata": {},
   "outputs": [],
   "source": [
    "start = past\n",
    "finish = len(df) - future"
   ]
  },
  {
   "cell_type": "code",
   "execution_count": 21,
   "metadata": {},
   "outputs": [],
   "source": [
    "dt = []\n",
    "for day in range(start, finish):\n",
    "    d_past = list(df.curs[day - 28 : day])\n",
    "    d_future = list(df.curs[day : day + future])\n",
    "    dt.append(d_past + d_future)"
   ]
  },
  {
   "cell_type": "code",
   "execution_count": 26,
   "metadata": {},
   "outputs": [],
   "source": [
    "p_columns = []\n",
    "for i in range(past):\n",
    "    p_columns.append(f'p_{i}')\n",
    "    \n",
    "f_columns = []\n",
    "for i in range(future):\n",
    "    f_columns.append(f'f_{i}')\n",
    "\n",
    "data = pd.DataFrame(dt, columns=p_columns + f_columns)"
   ]
  },
  {
   "cell_type": "code",
   "execution_count": 27,
   "metadata": {},
   "outputs": [
    {
     "data": {
      "text/html": [
       "<div>\n",
       "<style scoped>\n",
       "    .dataframe tbody tr th:only-of-type {\n",
       "        vertical-align: middle;\n",
       "    }\n",
       "\n",
       "    .dataframe tbody tr th {\n",
       "        vertical-align: top;\n",
       "    }\n",
       "\n",
       "    .dataframe thead th {\n",
       "        text-align: right;\n",
       "    }\n",
       "</style>\n",
       "<table border=\"1\" class=\"dataframe\">\n",
       "  <thead>\n",
       "    <tr style=\"text-align: right;\">\n",
       "      <th></th>\n",
       "      <th>p_0</th>\n",
       "      <th>p_1</th>\n",
       "      <th>p_2</th>\n",
       "      <th>p_3</th>\n",
       "      <th>p_4</th>\n",
       "      <th>p_5</th>\n",
       "      <th>p_6</th>\n",
       "      <th>p_7</th>\n",
       "      <th>p_8</th>\n",
       "      <th>p_9</th>\n",
       "      <th>...</th>\n",
       "      <th>p_25</th>\n",
       "      <th>p_26</th>\n",
       "      <th>p_27</th>\n",
       "      <th>f_0</th>\n",
       "      <th>f_1</th>\n",
       "      <th>f_2</th>\n",
       "      <th>f_3</th>\n",
       "      <th>f_4</th>\n",
       "      <th>f_5</th>\n",
       "      <th>f_6</th>\n",
       "    </tr>\n",
       "  </thead>\n",
       "  <tbody>\n",
       "    <tr>\n",
       "      <th>0</th>\n",
       "      <td>59.8961</td>\n",
       "      <td>59.9533</td>\n",
       "      <td>60.1614</td>\n",
       "      <td>59.4978</td>\n",
       "      <td>59.3700</td>\n",
       "      <td>59.6067</td>\n",
       "      <td>59.4015</td>\n",
       "      <td>59.1830</td>\n",
       "      <td>59.3521</td>\n",
       "      <td>59.6697</td>\n",
       "      <td>...</td>\n",
       "      <td>58.0619</td>\n",
       "      <td>57.7388</td>\n",
       "      <td>56.7719</td>\n",
       "      <td>57.1507</td>\n",
       "      <td>57.6342</td>\n",
       "      <td>58.0967</td>\n",
       "      <td>57.8590</td>\n",
       "      <td>57.4762</td>\n",
       "      <td>57.9371</td>\n",
       "      <td>57.9627</td>\n",
       "    </tr>\n",
       "    <tr>\n",
       "      <th>1</th>\n",
       "      <td>59.9533</td>\n",
       "      <td>60.1614</td>\n",
       "      <td>59.4978</td>\n",
       "      <td>59.3700</td>\n",
       "      <td>59.6067</td>\n",
       "      <td>59.4015</td>\n",
       "      <td>59.1830</td>\n",
       "      <td>59.3521</td>\n",
       "      <td>59.6697</td>\n",
       "      <td>59.5034</td>\n",
       "      <td>...</td>\n",
       "      <td>57.7388</td>\n",
       "      <td>56.7719</td>\n",
       "      <td>57.1507</td>\n",
       "      <td>57.6342</td>\n",
       "      <td>58.0967</td>\n",
       "      <td>57.8590</td>\n",
       "      <td>57.4762</td>\n",
       "      <td>57.9371</td>\n",
       "      <td>57.9627</td>\n",
       "      <td>58.3776</td>\n",
       "    </tr>\n",
       "    <tr>\n",
       "      <th>2</th>\n",
       "      <td>60.1614</td>\n",
       "      <td>59.4978</td>\n",
       "      <td>59.3700</td>\n",
       "      <td>59.6067</td>\n",
       "      <td>59.4015</td>\n",
       "      <td>59.1830</td>\n",
       "      <td>59.3521</td>\n",
       "      <td>59.6697</td>\n",
       "      <td>59.5034</td>\n",
       "      <td>59.2168</td>\n",
       "      <td>...</td>\n",
       "      <td>56.7719</td>\n",
       "      <td>57.1507</td>\n",
       "      <td>57.6342</td>\n",
       "      <td>58.0967</td>\n",
       "      <td>57.8590</td>\n",
       "      <td>57.4762</td>\n",
       "      <td>57.9371</td>\n",
       "      <td>57.9627</td>\n",
       "      <td>58.3776</td>\n",
       "      <td>58.4067</td>\n",
       "    </tr>\n",
       "    <tr>\n",
       "      <th>3</th>\n",
       "      <td>59.4978</td>\n",
       "      <td>59.3700</td>\n",
       "      <td>59.6067</td>\n",
       "      <td>59.4015</td>\n",
       "      <td>59.1830</td>\n",
       "      <td>59.3521</td>\n",
       "      <td>59.6697</td>\n",
       "      <td>59.5034</td>\n",
       "      <td>59.2168</td>\n",
       "      <td>59.1489</td>\n",
       "      <td>...</td>\n",
       "      <td>57.1507</td>\n",
       "      <td>57.6342</td>\n",
       "      <td>58.0967</td>\n",
       "      <td>57.8590</td>\n",
       "      <td>57.4762</td>\n",
       "      <td>57.9371</td>\n",
       "      <td>57.9627</td>\n",
       "      <td>58.3776</td>\n",
       "      <td>58.4067</td>\n",
       "      <td>58.9099</td>\n",
       "    </tr>\n",
       "    <tr>\n",
       "      <th>4</th>\n",
       "      <td>59.3700</td>\n",
       "      <td>59.6067</td>\n",
       "      <td>59.4015</td>\n",
       "      <td>59.1830</td>\n",
       "      <td>59.3521</td>\n",
       "      <td>59.6697</td>\n",
       "      <td>59.5034</td>\n",
       "      <td>59.2168</td>\n",
       "      <td>59.1489</td>\n",
       "      <td>59.6356</td>\n",
       "      <td>...</td>\n",
       "      <td>57.6342</td>\n",
       "      <td>58.0967</td>\n",
       "      <td>57.8590</td>\n",
       "      <td>57.4762</td>\n",
       "      <td>57.9371</td>\n",
       "      <td>57.9627</td>\n",
       "      <td>58.3776</td>\n",
       "      <td>58.4067</td>\n",
       "      <td>58.9099</td>\n",
       "      <td>58.3370</td>\n",
       "    </tr>\n",
       "    <tr>\n",
       "      <th>...</th>\n",
       "      <td>...</td>\n",
       "      <td>...</td>\n",
       "      <td>...</td>\n",
       "      <td>...</td>\n",
       "      <td>...</td>\n",
       "      <td>...</td>\n",
       "      <td>...</td>\n",
       "      <td>...</td>\n",
       "      <td>...</td>\n",
       "      <td>...</td>\n",
       "      <td>...</td>\n",
       "      <td>...</td>\n",
       "      <td>...</td>\n",
       "      <td>...</td>\n",
       "      <td>...</td>\n",
       "      <td>...</td>\n",
       "      <td>...</td>\n",
       "      <td>...</td>\n",
       "      <td>...</td>\n",
       "      <td>...</td>\n",
       "      <td>...</td>\n",
       "    </tr>\n",
       "    <tr>\n",
       "      <th>801</th>\n",
       "      <td>73.5245</td>\n",
       "      <td>73.3150</td>\n",
       "      <td>73.7145</td>\n",
       "      <td>74.7119</td>\n",
       "      <td>73.9441</td>\n",
       "      <td>74.6657</td>\n",
       "      <td>76.2562</td>\n",
       "      <td>77.0416</td>\n",
       "      <td>75.1290</td>\n",
       "      <td>74.7163</td>\n",
       "      <td>...</td>\n",
       "      <td>71.8804</td>\n",
       "      <td>71.5962</td>\n",
       "      <td>71.1408</td>\n",
       "      <td>71.0635</td>\n",
       "      <td>71.1012</td>\n",
       "      <td>70.7520</td>\n",
       "      <td>69.7114</td>\n",
       "      <td>68.9831</td>\n",
       "      <td>68.3413</td>\n",
       "      <td>69.0151</td>\n",
       "    </tr>\n",
       "    <tr>\n",
       "      <th>802</th>\n",
       "      <td>73.3150</td>\n",
       "      <td>73.7145</td>\n",
       "      <td>74.7119</td>\n",
       "      <td>73.9441</td>\n",
       "      <td>74.6657</td>\n",
       "      <td>76.2562</td>\n",
       "      <td>77.0416</td>\n",
       "      <td>75.1290</td>\n",
       "      <td>74.7163</td>\n",
       "      <td>74.4960</td>\n",
       "      <td>...</td>\n",
       "      <td>71.5962</td>\n",
       "      <td>71.1408</td>\n",
       "      <td>71.0635</td>\n",
       "      <td>71.1012</td>\n",
       "      <td>70.7520</td>\n",
       "      <td>69.7114</td>\n",
       "      <td>68.9831</td>\n",
       "      <td>68.3413</td>\n",
       "      <td>69.0151</td>\n",
       "      <td>68.6319</td>\n",
       "    </tr>\n",
       "    <tr>\n",
       "      <th>803</th>\n",
       "      <td>73.7145</td>\n",
       "      <td>74.7119</td>\n",
       "      <td>73.9441</td>\n",
       "      <td>74.6657</td>\n",
       "      <td>76.2562</td>\n",
       "      <td>77.0416</td>\n",
       "      <td>75.1290</td>\n",
       "      <td>74.7163</td>\n",
       "      <td>74.4960</td>\n",
       "      <td>74.5706</td>\n",
       "      <td>...</td>\n",
       "      <td>71.1408</td>\n",
       "      <td>71.0635</td>\n",
       "      <td>71.1012</td>\n",
       "      <td>70.7520</td>\n",
       "      <td>69.7114</td>\n",
       "      <td>68.9831</td>\n",
       "      <td>68.3413</td>\n",
       "      <td>69.0151</td>\n",
       "      <td>68.6319</td>\n",
       "      <td>68.3123</td>\n",
       "    </tr>\n",
       "    <tr>\n",
       "      <th>804</th>\n",
       "      <td>74.7119</td>\n",
       "      <td>73.9441</td>\n",
       "      <td>74.6657</td>\n",
       "      <td>76.2562</td>\n",
       "      <td>77.0416</td>\n",
       "      <td>75.1290</td>\n",
       "      <td>74.7163</td>\n",
       "      <td>74.4960</td>\n",
       "      <td>74.5706</td>\n",
       "      <td>73.6894</td>\n",
       "      <td>...</td>\n",
       "      <td>71.0635</td>\n",
       "      <td>71.1012</td>\n",
       "      <td>70.7520</td>\n",
       "      <td>69.7114</td>\n",
       "      <td>68.9831</td>\n",
       "      <td>68.3413</td>\n",
       "      <td>69.0151</td>\n",
       "      <td>68.6319</td>\n",
       "      <td>68.3123</td>\n",
       "      <td>68.6745</td>\n",
       "    </tr>\n",
       "    <tr>\n",
       "      <th>805</th>\n",
       "      <td>73.9441</td>\n",
       "      <td>74.6657</td>\n",
       "      <td>76.2562</td>\n",
       "      <td>77.0416</td>\n",
       "      <td>75.1290</td>\n",
       "      <td>74.7163</td>\n",
       "      <td>74.4960</td>\n",
       "      <td>74.5706</td>\n",
       "      <td>73.6894</td>\n",
       "      <td>72.7263</td>\n",
       "      <td>...</td>\n",
       "      <td>71.1012</td>\n",
       "      <td>70.7520</td>\n",
       "      <td>69.7114</td>\n",
       "      <td>68.9831</td>\n",
       "      <td>68.3413</td>\n",
       "      <td>69.0151</td>\n",
       "      <td>68.6319</td>\n",
       "      <td>68.3123</td>\n",
       "      <td>68.6745</td>\n",
       "      <td>68.6183</td>\n",
       "    </tr>\n",
       "  </tbody>\n",
       "</table>\n",
       "<p>806 rows × 35 columns</p>\n",
       "</div>"
      ],
      "text/plain": [
       "         p_0      p_1      p_2      p_3      p_4      p_5      p_6      p_7  \\\n",
       "0    59.8961  59.9533  60.1614  59.4978  59.3700  59.6067  59.4015  59.1830   \n",
       "1    59.9533  60.1614  59.4978  59.3700  59.6067  59.4015  59.1830  59.3521   \n",
       "2    60.1614  59.4978  59.3700  59.6067  59.4015  59.1830  59.3521  59.6697   \n",
       "3    59.4978  59.3700  59.6067  59.4015  59.1830  59.3521  59.6697  59.5034   \n",
       "4    59.3700  59.6067  59.4015  59.1830  59.3521  59.6697  59.5034  59.2168   \n",
       "..       ...      ...      ...      ...      ...      ...      ...      ...   \n",
       "801  73.5245  73.3150  73.7145  74.7119  73.9441  74.6657  76.2562  77.0416   \n",
       "802  73.3150  73.7145  74.7119  73.9441  74.6657  76.2562  77.0416  75.1290   \n",
       "803  73.7145  74.7119  73.9441  74.6657  76.2562  77.0416  75.1290  74.7163   \n",
       "804  74.7119  73.9441  74.6657  76.2562  77.0416  75.1290  74.7163  74.4960   \n",
       "805  73.9441  74.6657  76.2562  77.0416  75.1290  74.7163  74.4960  74.5706   \n",
       "\n",
       "         p_8      p_9  ...     p_25     p_26     p_27      f_0      f_1  \\\n",
       "0    59.3521  59.6697  ...  58.0619  57.7388  56.7719  57.1507  57.6342   \n",
       "1    59.6697  59.5034  ...  57.7388  56.7719  57.1507  57.6342  58.0967   \n",
       "2    59.5034  59.2168  ...  56.7719  57.1507  57.6342  58.0967  57.8590   \n",
       "3    59.2168  59.1489  ...  57.1507  57.6342  58.0967  57.8590  57.4762   \n",
       "4    59.1489  59.6356  ...  57.6342  58.0967  57.8590  57.4762  57.9371   \n",
       "..       ...      ...  ...      ...      ...      ...      ...      ...   \n",
       "801  75.1290  74.7163  ...  71.8804  71.5962  71.1408  71.0635  71.1012   \n",
       "802  74.7163  74.4960  ...  71.5962  71.1408  71.0635  71.1012  70.7520   \n",
       "803  74.4960  74.5706  ...  71.1408  71.0635  71.1012  70.7520  69.7114   \n",
       "804  74.5706  73.6894  ...  71.0635  71.1012  70.7520  69.7114  68.9831   \n",
       "805  73.6894  72.7263  ...  71.1012  70.7520  69.7114  68.9831  68.3413   \n",
       "\n",
       "         f_2      f_3      f_4      f_5      f_6  \n",
       "0    58.0967  57.8590  57.4762  57.9371  57.9627  \n",
       "1    57.8590  57.4762  57.9371  57.9627  58.3776  \n",
       "2    57.4762  57.9371  57.9627  58.3776  58.4067  \n",
       "3    57.9371  57.9627  58.3776  58.4067  58.9099  \n",
       "4    57.9627  58.3776  58.4067  58.9099  58.3370  \n",
       "..       ...      ...      ...      ...      ...  \n",
       "801  70.7520  69.7114  68.9831  68.3413  69.0151  \n",
       "802  69.7114  68.9831  68.3413  69.0151  68.6319  \n",
       "803  68.9831  68.3413  69.0151  68.6319  68.3123  \n",
       "804  68.3413  69.0151  68.6319  68.3123  68.6745  \n",
       "805  69.0151  68.6319  68.3123  68.6745  68.6183  \n",
       "\n",
       "[806 rows x 35 columns]"
      ]
     },
     "execution_count": 27,
     "metadata": {},
     "output_type": "execute_result"
    }
   ],
   "source": [
    "data"
   ]
  },
  {
   "cell_type": "markdown",
   "metadata": {},
   "source": [
    "входные / выходные данные"
   ]
  },
  {
   "cell_type": "code",
   "execution_count": 35,
   "metadata": {},
   "outputs": [],
   "source": [
    "X = data[p_columns]\n",
    "Y = data[f_columns]"
   ]
  },
  {
   "cell_type": "code",
   "execution_count": 36,
   "metadata": {},
   "outputs": [],
   "source": [
    "X_train = X[:-10]\n",
    "Y_train = Y[:-10]"
   ]
  },
  {
   "cell_type": "code",
   "execution_count": 37,
   "metadata": {},
   "outputs": [],
   "source": [
    "X_test = X[-10:]\n",
    "Y_test = Y[-10:]"
   ]
  },
  {
   "cell_type": "code",
   "execution_count": 38,
   "metadata": {},
   "outputs": [],
   "source": [
    "from sklearn.linear_model import LinearRegression"
   ]
  },
  {
   "cell_type": "code",
   "execution_count": 39,
   "metadata": {},
   "outputs": [],
   "source": [
    "lr = LinearRegression()"
   ]
  },
  {
   "cell_type": "code",
   "execution_count": 40,
   "metadata": {},
   "outputs": [
    {
     "data": {
      "text/plain": [
       "LinearRegression(copy_X=True, fit_intercept=True, n_jobs=None, normalize=False)"
      ]
     },
     "execution_count": 40,
     "metadata": {},
     "output_type": "execute_result"
    }
   ],
   "source": [
    "lr.fit(X_train, Y_train)"
   ]
  },
  {
   "cell_type": "code",
   "execution_count": 41,
   "metadata": {},
   "outputs": [
    {
     "data": {
      "text/html": [
       "<div>\n",
       "<style scoped>\n",
       "    .dataframe tbody tr th:only-of-type {\n",
       "        vertical-align: middle;\n",
       "    }\n",
       "\n",
       "    .dataframe tbody tr th {\n",
       "        vertical-align: top;\n",
       "    }\n",
       "\n",
       "    .dataframe thead th {\n",
       "        text-align: right;\n",
       "    }\n",
       "</style>\n",
       "<table border=\"1\" class=\"dataframe\">\n",
       "  <thead>\n",
       "    <tr style=\"text-align: right;\">\n",
       "      <th></th>\n",
       "      <th>p_0</th>\n",
       "      <th>p_1</th>\n",
       "      <th>p_2</th>\n",
       "      <th>p_3</th>\n",
       "      <th>p_4</th>\n",
       "      <th>p_5</th>\n",
       "      <th>p_6</th>\n",
       "      <th>p_7</th>\n",
       "      <th>p_8</th>\n",
       "      <th>p_9</th>\n",
       "      <th>...</th>\n",
       "      <th>p_18</th>\n",
       "      <th>p_19</th>\n",
       "      <th>p_20</th>\n",
       "      <th>p_21</th>\n",
       "      <th>p_22</th>\n",
       "      <th>p_23</th>\n",
       "      <th>p_24</th>\n",
       "      <th>p_25</th>\n",
       "      <th>p_26</th>\n",
       "      <th>p_27</th>\n",
       "    </tr>\n",
       "  </thead>\n",
       "  <tbody>\n",
       "    <tr>\n",
       "      <th>796</th>\n",
       "      <td>76.4074</td>\n",
       "      <td>75.455</td>\n",
       "      <td>75.7499</td>\n",
       "      <td>74.605</td>\n",
       "      <td>73.7515</td>\n",
       "      <td>73.5245</td>\n",
       "      <td>73.315</td>\n",
       "      <td>73.7145</td>\n",
       "      <td>74.7119</td>\n",
       "      <td>73.9441</td>\n",
       "      <td>...</td>\n",
       "      <td>72.7263</td>\n",
       "      <td>73.9719</td>\n",
       "      <td>74.1169</td>\n",
       "      <td>73.8725</td>\n",
       "      <td>73.4326</td>\n",
       "      <td>73.5819</td>\n",
       "      <td>73.9298</td>\n",
       "      <td>73.2056</td>\n",
       "      <td>72.9798</td>\n",
       "      <td>72.3918</td>\n",
       "    </tr>\n",
       "  </tbody>\n",
       "</table>\n",
       "<p>1 rows × 28 columns</p>\n",
       "</div>"
      ],
      "text/plain": [
       "         p_0     p_1      p_2     p_3      p_4      p_5     p_6      p_7  \\\n",
       "796  76.4074  75.455  75.7499  74.605  73.7515  73.5245  73.315  73.7145   \n",
       "\n",
       "         p_8      p_9  ...     p_18     p_19     p_20     p_21     p_22  \\\n",
       "796  74.7119  73.9441  ...  72.7263  73.9719  74.1169  73.8725  73.4326   \n",
       "\n",
       "        p_23     p_24     p_25     p_26     p_27  \n",
       "796  73.5819  73.9298  73.2056  72.9798  72.3918  \n",
       "\n",
       "[1 rows x 28 columns]"
      ]
     },
     "execution_count": 41,
     "metadata": {},
     "output_type": "execute_result"
    }
   ],
   "source": [
    "X_test.head(1)"
   ]
  },
  {
   "cell_type": "code",
   "execution_count": 42,
   "metadata": {},
   "outputs": [
    {
     "data": {
      "text/plain": [
       "p_0     73.3150\n",
       "p_1     73.7145\n",
       "p_2     74.7119\n",
       "p_3     73.9441\n",
       "p_4     74.6657\n",
       "p_5     76.2562\n",
       "p_6     77.0416\n",
       "p_7     75.1290\n",
       "p_8     74.7163\n",
       "p_9     74.4960\n",
       "p_10    74.5706\n",
       "p_11    73.6894\n",
       "p_12    72.7263\n",
       "p_13    73.9719\n",
       "p_14    74.1169\n",
       "p_15    73.8725\n",
       "p_16    73.4326\n",
       "p_17    73.5819\n",
       "p_18    73.9298\n",
       "p_19    73.2056\n",
       "p_20    72.9798\n",
       "p_21    72.3918\n",
       "p_22    72.3381\n",
       "p_23    70.9240\n",
       "p_24    71.8804\n",
       "p_25    71.5962\n",
       "p_26    71.1408\n",
       "p_27    71.0635\n",
       "Name: 802, dtype: float64"
      ]
     },
     "execution_count": 42,
     "metadata": {},
     "output_type": "execute_result"
    }
   ],
   "source": [
    "X_test.iloc[6]"
   ]
  },
  {
   "cell_type": "code",
   "execution_count": 43,
   "metadata": {},
   "outputs": [
    {
     "data": {
      "text/plain": [
       "array([[72.57917548, 72.43527824, 72.26025882, 72.03551262, 72.04576646,\n",
       "        71.97203138, 71.88417827],\n",
       "       [72.18550291, 71.92159778, 71.67426162, 71.75659663, 71.706465  ,\n",
       "        71.66853235, 71.44631133],\n",
       "       [70.61985173, 70.34184485, 70.42608118, 70.36760907, 70.23898035,\n",
       "        70.03695771, 69.85475155],\n",
       "       [71.65006833, 71.64503773, 71.58151084, 71.55241162, 71.48136966,\n",
       "        71.35217543, 71.27298406],\n",
       "       [71.58758099, 71.44396544, 71.37853394, 71.38670893, 71.30248882,\n",
       "        71.2699675 , 71.21592718],\n",
       "       [70.97649983, 70.84771175, 70.85503827, 70.80156072, 70.75229239,\n",
       "        70.72237949, 70.70577455],\n",
       "       [70.93748611, 70.85781891, 70.84230353, 70.82940903, 70.80610471,\n",
       "        70.82412674, 70.60776024],\n",
       "       [71.02589963, 71.02000098, 71.01556829, 70.98272867, 71.00451603,\n",
       "        70.77924068, 70.57494146],\n",
       "       [70.73984986, 70.85233779, 70.78065195, 70.74308686, 70.48875507,\n",
       "        70.23948926, 70.4656301 ],\n",
       "       [69.79187348, 69.64782746, 69.59279933, 69.37873534, 69.08335406,\n",
       "        69.35579212, 69.45944207]])"
      ]
     },
     "execution_count": 43,
     "metadata": {},
     "output_type": "execute_result"
    }
   ],
   "source": [
    "lr.predict(X_test)"
   ]
  },
  {
   "cell_type": "code",
   "execution_count": 44,
   "metadata": {},
   "outputs": [
    {
     "data": {
      "text/html": [
       "<div>\n",
       "<style scoped>\n",
       "    .dataframe tbody tr th:only-of-type {\n",
       "        vertical-align: middle;\n",
       "    }\n",
       "\n",
       "    .dataframe tbody tr th {\n",
       "        vertical-align: top;\n",
       "    }\n",
       "\n",
       "    .dataframe thead th {\n",
       "        text-align: right;\n",
       "    }\n",
       "</style>\n",
       "<table border=\"1\" class=\"dataframe\">\n",
       "  <thead>\n",
       "    <tr style=\"text-align: right;\">\n",
       "      <th></th>\n",
       "      <th>f_0</th>\n",
       "      <th>f_1</th>\n",
       "      <th>f_2</th>\n",
       "      <th>f_3</th>\n",
       "      <th>f_4</th>\n",
       "      <th>f_5</th>\n",
       "      <th>f_6</th>\n",
       "    </tr>\n",
       "  </thead>\n",
       "  <tbody>\n",
       "    <tr>\n",
       "      <th>796</th>\n",
       "      <td>72.3381</td>\n",
       "      <td>70.924</td>\n",
       "      <td>71.8804</td>\n",
       "      <td>71.5962</td>\n",
       "      <td>71.1408</td>\n",
       "      <td>71.0635</td>\n",
       "      <td>71.1012</td>\n",
       "    </tr>\n",
       "  </tbody>\n",
       "</table>\n",
       "</div>"
      ],
      "text/plain": [
       "         f_0     f_1      f_2      f_3      f_4      f_5      f_6\n",
       "796  72.3381  70.924  71.8804  71.5962  71.1408  71.0635  71.1012"
      ]
     },
     "execution_count": 44,
     "metadata": {},
     "output_type": "execute_result"
    }
   ],
   "source": [
    "Y_test.head(1)"
   ]
  },
  {
   "cell_type": "code",
   "execution_count": 45,
   "metadata": {},
   "outputs": [],
   "source": [
    "day_1 = X_test.head(1)"
   ]
  },
  {
   "cell_type": "code",
   "execution_count": 46,
   "metadata": {},
   "outputs": [],
   "source": [
    "day_1r = Y_test.head(1)"
   ]
  },
  {
   "cell_type": "code",
   "execution_count": 52,
   "metadata": {},
   "outputs": [
    {
     "data": {
      "text/plain": [
       "array([[72.57917548, 72.43527824, 72.26025882, 72.03551262, 72.04576646,\n",
       "        71.97203138, 71.88417827]])"
      ]
     },
     "execution_count": 52,
     "metadata": {},
     "output_type": "execute_result"
    }
   ],
   "source": [
    "day_pr = lr.predict(day_1)\n",
    "day_pr"
   ]
  },
  {
   "cell_type": "code",
   "execution_count": 48,
   "metadata": {},
   "outputs": [
    {
     "data": {
      "text/html": [
       "<div>\n",
       "<style scoped>\n",
       "    .dataframe tbody tr th:only-of-type {\n",
       "        vertical-align: middle;\n",
       "    }\n",
       "\n",
       "    .dataframe tbody tr th {\n",
       "        vertical-align: top;\n",
       "    }\n",
       "\n",
       "    .dataframe thead th {\n",
       "        text-align: right;\n",
       "    }\n",
       "</style>\n",
       "<table border=\"1\" class=\"dataframe\">\n",
       "  <thead>\n",
       "    <tr style=\"text-align: right;\">\n",
       "      <th></th>\n",
       "      <th>f_0</th>\n",
       "      <th>f_1</th>\n",
       "      <th>f_2</th>\n",
       "      <th>f_3</th>\n",
       "      <th>f_4</th>\n",
       "      <th>f_5</th>\n",
       "      <th>f_6</th>\n",
       "    </tr>\n",
       "  </thead>\n",
       "  <tbody>\n",
       "    <tr>\n",
       "      <th>796</th>\n",
       "      <td>72.3381</td>\n",
       "      <td>70.924</td>\n",
       "      <td>71.8804</td>\n",
       "      <td>71.5962</td>\n",
       "      <td>71.1408</td>\n",
       "      <td>71.0635</td>\n",
       "      <td>71.1012</td>\n",
       "    </tr>\n",
       "  </tbody>\n",
       "</table>\n",
       "</div>"
      ],
      "text/plain": [
       "         f_0     f_1      f_2      f_3      f_4      f_5      f_6\n",
       "796  72.3381  70.924  71.8804  71.5962  71.1408  71.0635  71.1012"
      ]
     },
     "execution_count": 48,
     "metadata": {},
     "output_type": "execute_result"
    }
   ],
   "source": [
    "day_1r"
   ]
  },
  {
   "cell_type": "code",
   "execution_count": 49,
   "metadata": {},
   "outputs": [],
   "source": [
    "from sklearn.metrics import mean_absolute_error"
   ]
  },
  {
   "cell_type": "code",
   "execution_count": 53,
   "metadata": {},
   "outputs": [
    {
     "data": {
      "text/plain": [
       "0.7382858976275202"
      ]
     },
     "execution_count": 53,
     "metadata": {},
     "output_type": "execute_result"
    }
   ],
   "source": [
    "mean_absolute_error(day_pr[0], day_1r.iloc[0])"
   ]
  },
  {
   "cell_type": "code",
   "execution_count": 54,
   "metadata": {},
   "outputs": [],
   "source": [
    "import matplotlib.pyplot as plt"
   ]
  },
  {
   "cell_type": "code",
   "execution_count": 55,
   "metadata": {},
   "outputs": [
    {
     "data": {
      "text/plain": [
       "<matplotlib.legend.Legend at 0x23c83c94808>"
      ]
     },
     "execution_count": 55,
     "metadata": {},
     "output_type": "execute_result"
    },
    {
     "data": {
      "image/png": "[encoded data removed]",
      "text/plain": [
       "<Figure size 432x288 with 1 Axes>"
      ]
     },
     "metadata": {
      "needs_background": "light"
     },
     "output_type": "display_data"
    }
   ],
   "source": [
    "plt.plot(day_pr[0], label = 'prediction')\n",
    "plt.plot(day_1r.iloc[0], label='real')\n",
    "plt.legend()"
   ]
  },
  {
   "cell_type": "code",
   "execution_count": 58,
   "metadata": {},
   "outputs": [
    {
     "data": {
      "text/plain": [
       "0.5573096584181627"
      ]
     },
     "execution_count": 58,
     "metadata": {},
     "output_type": "execute_result"
    }
   ],
   "source": [
    "pr = lr.predict([X_test.iloc[1]])\n",
    "real = Y_test.iloc[1]\n",
    "mean_absolute_error(pr[0], real)"
   ]
  },
  {
   "cell_type": "code",
   "execution_count": 59,
   "metadata": {},
   "outputs": [
    {
     "data": {
      "text/plain": [
       "<matplotlib.legend.Legend at 0x23c86e7d788>"
      ]
     },
     "execution_count": 59,
     "metadata": {},
     "output_type": "execute_result"
    },
    {
     "data": {
      "image/png": "[encoded data removed]",
      "text/plain": [
       "<Figure size 432x288 with 1 Axes>"
      ]
     },
     "metadata": {
      "needs_background": "light"
     },
     "output_type": "display_data"
    }
   ],
   "source": [
    "plt.plot(pr[0], label = 'prediction')\n",
    "plt.plot(real, label='real')\n",
    "plt.legend()"
   ]
  },
  {
   "cell_type": "code",
   "execution_count": 60,
   "metadata": {},
   "outputs": [],
   "source": [
    "from sklearn.neighbors import KNeighborsRegressor"
   ]
  },
  {
   "cell_type": "code",
   "execution_count": 63,
   "metadata": {},
   "outputs": [
    {
     "data": {
      "text/plain": [
       "KNeighborsRegressor(algorithm='auto', leaf_size=30, metric='minkowski',\n",
       "                    metric_params=None, n_jobs=None, n_neighbors=5, p=2,\n",
       "                    weights='uniform')"
      ]
     },
     "execution_count": 63,
     "metadata": {},
     "output_type": "execute_result"
    }
   ],
   "source": [
    "knr = KNeighborsRegressor(n_neighbors=2)\n",
    "knr.fit(X_train, Y_train)"
   ]
  },
  {
   "cell_type": "code",
   "execution_count": 64,
   "metadata": {},
   "outputs": [
    {
     "data": {
      "text/plain": [
       "0.9889085714285711"
      ]
     },
     "execution_count": 64,
     "metadata": {},
     "output_type": "execute_result"
    }
   ],
   "source": [
    "pr = knr.predict([X_test.iloc[1]])\n",
    "real = Y_test.iloc[1]\n",
    "mean_absolute_error(pr[0], real)"
   ]
  },
  {
   "cell_type": "code",
   "execution_count": 65,
   "metadata": {},
   "outputs": [
    {
     "data": {
      "text/plain": [
       "<matplotlib.legend.Legend at 0x23c872b1e08>"
      ]
     },
     "execution_count": 65,
     "metadata": {},
     "output_type": "execute_result"
    },
    {
     "data": {
      "image/png": "[encoded data removed]",
      "text/plain": [
       "<Figure size 432x288 with 1 Axes>"
      ]
     },
     "metadata": {
      "needs_background": "light"
     },
     "output_type": "display_data"
    }
   ],
   "source": [
    "plt.plot(pr[0], label = 'prediction')\n",
    "plt.plot(real, label='real')\n",
    "plt.legend()"
   ]
  },
  {
   "cell_type": "code",
   "execution_count": 66,
   "metadata": {},
   "outputs": [
    {
     "data": {
      "text/plain": [
       "KNeighborsRegressor(algorithm='auto', leaf_size=30, metric='minkowski',\n",
       "                    metric_params=None, n_jobs=None, n_neighbors=2, p=2,\n",
       "                    weights='uniform')"
      ]
     },
     "execution_count": 66,
     "metadata": {},
     "output_type": "execute_result"
    }
   ],
   "source": [
    "knr = KNeighborsRegressor(n_neighbors=2)\n",
    "knr.fit(X_train, Y_train)"
   ]
  },
  {
   "cell_type": "code",
   "execution_count": 67,
   "metadata": {},
   "outputs": [
    {
     "data": {
      "text/plain": [
       "0.5478357142857107"
      ]
     },
     "execution_count": 67,
     "metadata": {},
     "output_type": "execute_result"
    }
   ],
   "source": [
    "pr = knr.predict([X_test.iloc[1]])\n",
    "real = Y_test.iloc[1]\n",
    "mean_absolute_error(pr[0], real)"
   ]
  },
  {
   "cell_type": "code",
   "execution_count": 68,
   "metadata": {},
   "outputs": [
    {
     "data": {
      "text/plain": [
       "<matplotlib.legend.Legend at 0x23c835b6448>"
      ]
     },
     "execution_count": 68,
     "metadata": {},
     "output_type": "execute_result"
    },
    {
     "data": {
      "image/png": "[encoded data removed]",
      "text/plain": [
       "<Figure size 432x288 with 1 Axes>"
      ]
     },
     "metadata": {
      "needs_background": "light"
     },
     "output_type": "display_data"
    }
   ],
   "source": [
    "plt.plot(pr[0], label = 'prediction')\n",
    "plt.plot(real, label='real')\n",
    "plt.legend()"
   ]
  },
  {
   "cell_type": "code",
   "execution_count": 73,
   "metadata": {},
   "outputs": [],
   "source": [
    "from sklearn.neural_network import MLPRegressor\n",
    "mlp = MLPRegressor()"
   ]
  },
  {
   "cell_type": "code",
   "execution_count": 74,
   "metadata": {},
   "outputs": [
    {
     "name": "stderr",
     "output_type": "stream",
     "text": [
      "l:\\python\\Anaconda3\\lib\\site-packages\\sklearn\\neural_network\\_multilayer_perceptron.py:571: ConvergenceWarning: Stochastic Optimizer: Maximum iterations (200) reached and the optimization hasn't converged yet.\n",
      "  % self.max_iter, ConvergenceWarning)\n"
     ]
    },
    {
     "data": {
      "text/plain": [
       "MLPRegressor(activation='relu', alpha=0.0001, batch_size='auto', beta_1=0.9,\n",
       "             beta_2=0.999, early_stopping=False, epsilon=1e-08,\n",
       "             hidden_layer_sizes=(100,), learning_rate='constant',\n",
       "             learning_rate_init=0.001, max_fun=15000, max_iter=200,\n",
       "             momentum=0.9, n_iter_no_change=10, nesterovs_momentum=True,\n",
       "             power_t=0.5, random_state=None, shuffle=True, solver='adam',\n",
       "             tol=0.0001, validation_fraction=0.1, verbose=False,\n",
       "             warm_start=False)"
      ]
     },
     "execution_count": 74,
     "metadata": {},
     "output_type": "execute_result"
    }
   ],
   "source": [
    "mlp.fit(X_train, Y_train)"
   ]
  },
  {
   "cell_type": "code",
   "execution_count": 75,
   "metadata": {},
   "outputs": [
    {
     "data": {
      "text/plain": [
       "2.3483056602084957"
      ]
     },
     "execution_count": 75,
     "metadata": {},
     "output_type": "execute_result"
    }
   ],
   "source": [
    "pr = mlp.predict([X_test.iloc[1]])\n",
    "real = Y_test.iloc[1]\n",
    "mean_absolute_error(pr[0], real)"
   ]
  },
  {
   "cell_type": "code",
   "execution_count": 76,
   "metadata": {},
   "outputs": [
    {
     "data": {
      "text/plain": [
       "<matplotlib.legend.Legend at 0x23c8758fd08>"
      ]
     },
     "execution_count": 76,
     "metadata": {},
     "output_type": "execute_result"
    },
    {
     "data": {
      "image/png": "[encoded data removed]",
      "text/plain": [
       "<Figure size 432x288 with 1 Axes>"
      ]
     },
     "metadata": {
      "needs_background": "light"
     },
     "output_type": "display_data"
    }
   ],
   "source": [
    "plt.plot(pr[0], label = 'prediction')\n",
    "plt.plot(real, label='real')\n",
    "plt.legend()"
   ]
  },
  {
   "cell_type": "code",
   "execution_count": 86,
   "metadata": {},
   "outputs": [],
   "source": [
    "mlp = MLPRegressor(max_iter=1000, hidden_layer_sizes=(150,150,150))"
   ]
  },
  {
   "cell_type": "code",
   "execution_count": 87,
   "metadata": {},
   "outputs": [
    {
     "data": {
      "text/plain": [
       "MLPRegressor(activation='relu', alpha=0.0001, batch_size='auto', beta_1=0.9,\n",
       "             beta_2=0.999, early_stopping=False, epsilon=1e-08,\n",
       "             hidden_layer_sizes=(150, 150, 150), learning_rate='constant',\n",
       "             learning_rate_init=0.001, max_fun=15000, max_iter=1000,\n",
       "             momentum=0.9, n_iter_no_change=10, nesterovs_momentum=True,\n",
       "             power_t=0.5, random_state=None, shuffle=True, solver='adam',\n",
       "             tol=0.0001, validation_fraction=0.1, verbose=False,\n",
       "             warm_start=False)"
      ]
     },
     "execution_count": 87,
     "metadata": {},
     "output_type": "execute_result"
    }
   ],
   "source": [
    "mlp.fit(X_train, Y_train)"
   ]
  },
  {
   "cell_type": "code",
   "execution_count": 88,
   "metadata": {},
   "outputs": [
    {
     "data": {
      "text/plain": [
       "1.5087113912212422"
      ]
     },
     "execution_count": 88,
     "metadata": {},
     "output_type": "execute_result"
    }
   ],
   "source": [
    "pr = mlp.predict([X_test.iloc[1]])\n",
    "real = Y_test.iloc[1]\n",
    "mean_absolute_error(pr[0], real)"
   ]
  },
  {
   "cell_type": "code",
   "execution_count": 89,
   "metadata": {},
   "outputs": [
    {
     "data": {
      "text/plain": [
       "<matplotlib.legend.Legend at 0x23c87550a08>"
      ]
     },
     "execution_count": 89,
     "metadata": {},
     "output_type": "execute_result"
    },
    {
     "data": {
      "image/png": "[encoded data removed]",
      "text/plain": [
       "<Figure size 432x288 with 1 Axes>"
      ]
     },
     "metadata": {
      "needs_background": "light"
     },
     "output_type": "display_data"
    }
   ],
   "source": [
    "plt.plot(pr[0], label = 'prediction')\n",
    "plt.plot(real, label='real')\n",
    "plt.legend()"
   ]
  },
  {
   "cell_type": "code",
   "execution_count": null,
   "metadata": {},
   "outputs": [],
   "source": []
  },
  {
   "cell_type": "code",
   "execution_count": null,
   "metadata": {},
   "outputs": [],
   "source": []
  }
 ],
 "metadata": {
  "kernelspec": {
   "display_name": "Python 3",
   "language": "python",
   "name": "python3"
  },
  "language_info": {
   "codemirror_mode": {
    "name": "ipython",
    "version": 3
   },
   "file_extension": ".py",
   "mimetype": "text/x-python",
   "name": "python",
   "nbconvert_exporter": "python",
   "pygments_lexer": "ipython3",
   "version": "3.7.6"
  }
 },
 "nbformat": 4,
 "nbformat_minor": 4
}
